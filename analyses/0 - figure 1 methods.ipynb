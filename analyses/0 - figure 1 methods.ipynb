{
 "cells": [
  {
   "cell_type": "markdown",
   "metadata": {},
   "source": [
    "# Figure 1: feature extraction methods"
   ]
  },
  {
   "cell_type": "code",
   "execution_count": 1,
   "metadata": {},
   "outputs": [],
   "source": [
    "import numpy as np\n",
    "import pandas as pd\n",
    "from matplotlib import pyplot as plt\n",
    "%matplotlib inline\n",
    "import seaborn as sns\n",
    "sns.set(\"paper\", \"white\")\n",
    "from pyns import Neuroscout\n",
    "import math\n",
    "\n",
    "api = Neuroscout()"
   ]
  },
  {
   "cell_type": "markdown",
   "metadata": {},
   "source": [
    "In Figure 1, we plot the timeseries of three example `Predictors`: `any_faces` (binary indicator of face presence), `building` (probability of building in frame), `subtlexusfrequency_Lg10WF` (frequency norm for each word in the speech transcript)."
   ]
  },
  {
   "cell_type": "markdown",
   "metadata": {},
   "source": [
    "### 1) First, identify an example  run associated with the \"SherlockMerlin\" dataset and \"MerlinMovie\" task"
   ]
  },
  {
   "cell_type": "markdown",
   "metadata": {},
   "source": [
    "First, let's take a look at the available datasets in Neuroscout"
   ]
  },
  {
   "cell_type": "code",
   "execution_count": 2,
   "metadata": {},
   "outputs": [
    {
     "name": "stdout",
     "output_type": "stream",
     "text": [
      "dataset count = 12\n",
      "\n",
      "Datasets and IDs:\n",
      "\n",
      "studyforrest 11\n",
      "Raiders 10\n",
      "SchematicNarrative 20\n",
      "SherlockMerlin 5\n",
      "Sherlock 21\n",
      "narratives 30\n",
      "Life 9\n",
      "ParanoiaStory 18\n",
      "LearningTemporalStructure 19\n",
      "Budapest 27\n",
      "NaturalisticNeuroimagingDatabase 28\n",
      "ReadingBrainProject 29\n"
     ]
    }
   ],
   "source": [
    "datasets = api.datasets.get()\n",
    "print(f'dataset count = {len(api.datasets.get())}\\n')\n",
    "print('Datasets and IDs:\\n')\n",
    "for i in datasets:\n",
    "    print(i['name'], i['id'])"
   ]
  },
  {
   "cell_type": "markdown",
   "metadata": {},
   "source": [
    "For this Figure, we are going to focus on the \"SherlockMerlin\" dataset, task \"MerlinMovie\".\n",
    "\n",
    "Although all the subjects saw the same movie in this task, we need to ask for the timeline of a specific subject / run in Neuroscout (as it is designed to allow for different stimuli per run/subject)."
   ]
  },
  {
   "cell_type": "code",
   "execution_count": 3,
   "metadata": {},
   "outputs": [
    {
     "data": {
      "text/plain": [
       "[{'TR': 1.5,\n",
       "  'avg_run_duration': 1543,\n",
       "  'id': 4,\n",
       "  'n_runs_subject': 1,\n",
       "  'n_subjects': 18,\n",
       "  'name': 'MerlinMovie',\n",
       "  'summary': 'AV Presentation: Merlin Episode'},\n",
       " {'TR': 1.5,\n",
       "  'avg_run_duration': 1475,\n",
       "  'id': 45,\n",
       "  'n_runs_subject': 1,\n",
       "  'n_subjects': 18,\n",
       "  'name': 'SherlockMovie',\n",
       "  'summary': 'AV Presentation: Sherlock Episode'}]"
      ]
     },
     "execution_count": 3,
     "metadata": {},
     "output_type": "execute_result"
    }
   ],
   "source": [
    "# See tasks for SherlockMerlin dataset. Notice \"MerlinMovie\" has task \"id\": 4\n",
    "api.datasets.get(5)['tasks']"
   ]
  },
  {
   "cell_type": "code",
   "execution_count": 4,
   "metadata": {},
   "outputs": [
    {
     "data": {
      "text/plain": [
       "{'acquisition': None,\n",
       " 'dataset_id': 5,\n",
       " 'duration': 1543.5,\n",
       " 'id': 1410,\n",
       " 'number': None,\n",
       " 'session': None,\n",
       " 'subject': '25',\n",
       " 'task': 4,\n",
       " 'task_name': 'MerlinMovie'}"
      ]
     },
     "execution_count": 4,
     "metadata": {},
     "output_type": "execute_result"
    }
   ],
   "source": [
    "# Get any run (first) associated with task \"MerlinMovie\", id == \"4\"\n",
    "api.runs.get(task_id=4)[0]"
   ]
  },
  {
   "cell_type": "code",
   "execution_count": 5,
   "metadata": {},
   "outputs": [],
   "source": [
    "# Save the run number an duration for that run\n",
    "run_id = api.runs.get(task_id=4)[0]['id']\n",
    "run_duration = api.runs.get(task_id=4)[0]['duration']"
   ]
  },
  {
   "cell_type": "markdown",
   "metadata": {},
   "source": [
    "### 2) For predictors of interest, extract timeseries "
   ]
  },
  {
   "cell_type": "markdown",
   "metadata": {},
   "source": [
    "Here, for the predictors `any_faces`, `building`, and `subtlexusfrequency_Lg10WF`, we will extract predictor events for this specific run (subject: 25, task: 'MerlinMovie'). \n",
    "\n",
    "First, we need to get the `predictor_id` for each predictor of interest associated with that specific run. \n",
    "\n",
    "<div class=\"alert alert-block alert-info\">\n",
    "<b>Note:</b> In Neuroscout, `predictor_ids` are different for each dataset even for the same named features (e.g. \"any_faces\"). Within Datasets, they can also differ for each task. For that reason, it's safest to ask for the Predictor ID associated with a specific run, or sets of runs. \n",
    "</div>"
   ]
  },
  {
   "cell_type": "code",
   "execution_count": 8,
   "metadata": {},
   "outputs": [
    {
     "data": {
      "text/plain": [
       "[{'dataset_id': 5,\n",
       "  'description': 'Binary indicator of face detection',\n",
       "  'id': 19921,\n",
       "  'max': 1.0,\n",
       "  'mean': 1.0,\n",
       "  'min': 1.0,\n",
       "  'name': 'any_faces',\n",
       "  'num_na': 0,\n",
       "  'private': False,\n",
       "  'source': 'Collection: merlin_facenet_cw_min50_t62'}]"
      ]
     },
     "execution_count": 8,
     "metadata": {},
     "output_type": "execute_result"
    }
   ],
   "source": [
    "api.predictors.get(name='any_faces', run_id=run_id)"
   ]
  },
  {
   "cell_type": "code",
   "execution_count": 10,
   "metadata": {},
   "outputs": [],
   "source": [
    "any_faces_predictor_id = api.predictors.get(name='any_faces', run_id=run_id)[0]['id']"
   ]
  },
  {
   "cell_type": "markdown",
   "metadata": {},
   "source": [
    "We can then query `predictor_events` to get all of the recorded events for this predictor, for a given run:"
   ]
  },
  {
   "cell_type": "code",
   "execution_count": 23,
   "metadata": {},
   "outputs": [
    {
     "data": {
      "text/plain": [
       "[{'duration': 1.0,\n",
       "  'onset': 68.5,\n",
       "  'predictor_id': 19921,\n",
       "  'run_id': 1410,\n",
       "  'stimulus_id': None,\n",
       "  'value': '1.0'},\n",
       " {'duration': 1.0,\n",
       "  'onset': 69.5,\n",
       "  'predictor_id': 19921,\n",
       "  'run_id': 1410,\n",
       "  'stimulus_id': None,\n",
       "  'value': '1.0'},\n",
       " {'duration': 1.0,\n",
       "  'onset': 70.5,\n",
       "  'predictor_id': 19921,\n",
       "  'run_id': 1410,\n",
       "  'stimulus_id': None,\n",
       "  'value': '1.0'}]"
      ]
     },
     "execution_count": 23,
     "metadata": {},
     "output_type": "execute_result"
    }
   ],
   "source": [
    "# First 3 events for \"any_faces\" for an example run \n",
    "api.predictor_events.get(predictor_id=any_faces_predictor_id, run_id=run_id)[0:3]"
   ]
  },
  {
   "cell_type": "markdown",
   "metadata": {},
   "source": [
    "Notice that events are in \"sparse\" (or 3 column EV) format, with the keys \"onset\" \"duration\" and \"value\".\n",
    "Time points with no value, do not receive an explicit events. \n",
    "\n",
    "In order to plot these events together, we need to convert them into fixed timing evenly sampled format:"
   ]
  },
  {
   "cell_type": "code",
   "execution_count": 25,
   "metadata": {},
   "outputs": [],
   "source": [
    "all_data = []\n",
    "for feat in ['any_faces','building','subtlexusfrequency_Lg10WF']:\n",
    "    predictor_id = api.predictors.get(name=feat, run_id=run_id)[0]['id']\n",
    "    an_event = api.predictor_events.get(\n",
    "        predictor_id = predictor_id,\n",
    "        run_id=run_id,\n",
    "        stimulus_timing=True)\n",
    "    \n",
    "    data = np.zeros((int(run_duration*100)))\n",
    "    for i in an_event:\n",
    "        start = round(i['onset']*100)\n",
    "\n",
    "        stop = start + math.ceil(i['duration']*100)\n",
    "        value = i['value']\n",
    "        try:\n",
    "            data[start:stop]=value\n",
    "        except:\n",
    "            pass\n",
    "    data = data[2500:]\n",
    "    all_data.append(data)"
   ]
  },
  {
   "cell_type": "markdown",
   "metadata": {},
   "source": [
    "### 3) Plot timecourse in two sample windows"
   ]
  },
  {
   "cell_type": "markdown",
   "metadata": {},
   "source": [
    "Finally, we use some custom matplotlib code to plot the timecourse of these three predictor in two windows of the the movie. \n",
    "\n",
    "`Figure 1` was hand customized to create the final figure. "
   ]
  },
  {
   "cell_type": "code",
   "execution_count": 27,
   "metadata": {},
   "outputs": [
    {
     "data": {
      "image/png": "[encoded data removed]",
      "text/plain": [
       "<Figure size 1440x288 with 1 Axes>"
      ]
     },
     "metadata": {
      "needs_background": "light"
     },
     "output_type": "display_data"
    },
    {
     "data": {
      "image/png": "[encoded data removed]",
      "text/plain": [
       "<Figure size 1440x288 with 1 Axes>"
      ]
     },
     "metadata": {
      "needs_background": "light"
     },
     "output_type": "display_data"
    },
    {
     "data": {
      "image/png": "[encoded data removed]",
      "text/plain": [
       "<Figure size 1440x288 with 1 Axes>"
      ]
     },
     "metadata": {
      "needs_background": "light"
     },
     "output_type": "display_data"
    },
    {
     "data": {
      "image/png": "[encoded data removed]",
      "text/plain": [
       "<Figure size 1440x288 with 1 Axes>"
      ]
     },
     "metadata": {
      "needs_background": "light"
     },
     "output_type": "display_data"
    },
    {
     "data": {
      "image/png": "[encoded data removed]",
      "text/plain": [
       "<Figure size 1440x288 with 1 Axes>"
      ]
     },
     "metadata": {
      "needs_background": "light"
     },
     "output_type": "display_data"
    },
    {
     "data": {
      "image/png": "[encoded data removed]",
      "text/plain": [
       "<Figure size 1440x288 with 1 Axes>"
      ]
     },
     "metadata": {
      "needs_background": "light"
     },
     "output_type": "display_data"
    }
   ],
   "source": [
    "all_data_y = np.arange(int(all_data[1].shape[0]))\n",
    "# ind1=8000\n",
    "# ind2=9000\n",
    "ind1=7500\n",
    "ind2=9000\n",
    "for i,color in enumerate(['b','r','g']):\n",
    "    plt.figure(figsize=(20, 4))\n",
    "    plt.plot(all_data_y[ind1:ind2],all_data[i][ind1:ind2], linewidth=5,c=color)\n",
    "    plt.fill_between(all_data_y[ind1:ind2],all_data[i][ind1:ind2],color=color,alpha=0.3)\n",
    "    frame1 = plt.gca()\n",
    "    frame1.axes.get_xaxis().set_visible(False)\n",
    "    frame1.axes.get_yaxis().set_visible(False)\n",
    "    frame1.axes.axis('off')\n",
    "ind1=128000\n",
    "ind2=129300\n",
    "\n",
    "# ind1=103500\n",
    "# ind2=105000\n",
    "for i,color in enumerate(['b','r','g']):\n",
    "    plt.figure(figsize=(20, 4))\n",
    "    plt.plot(all_data_y[ind1:ind2],all_data[i][ind1:ind2], linewidth=5,c=color)\n",
    "    plt.fill_between(all_data_y[ind1:ind2],all_data[i][ind1:ind2],color=color,alpha=0.3)\n",
    "    frame1 = plt.gca()\n",
    "    frame1.axes.get_xaxis().set_visible(False)\n",
    "    frame1.axes.get_yaxis().set_visible(False)\n",
    "    frame1.axes.axis('off')"
   ]
  }
 ],
 "metadata": {
  "kernelspec": {
   "display_name": "Python 3",
   "language": "python",
   "name": "python3"
  },
  "language_info": {
   "codemirror_mode": {
    "name": "ipython",
    "version": 3
   },
   "file_extension": ".py",
   "mimetype": "text/x-python",
   "name": "python",
   "nbconvert_exporter": "python",
   "pygments_lexer": "ipython3",
   "version": "3.7.3"
  },
  "toc-autonumbering": false,
  "toc-showcode": false,
  "toc-showmarkdowntxt": false,
  "toc-showtags": false
 },
 "nbformat": 4,
 "nbformat_minor": 5
}
