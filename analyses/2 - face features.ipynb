{
 "cells": [
  {
   "cell_type": "markdown",
   "source": [
    "## FaceNet models\n",
    "Set of models investigating face perception:\n",
    "- single-predictor model with binary regressor coding for presence of any face (**any_faces**)\n",
    "- **any_faces** + **speech**\n",
    "- **any_faces** + **speech** + log of cumulative time the detected face has been on screen (mean across faces, **log_mean_face_time_cum**)"
   ],
   "metadata": {}
  },
  {
   "cell_type": "code",
   "execution_count": 1,
   "source": [
    "from create import create_models\n",
    "from pyns import Neuroscout\n",
    "from matplotlib import pyplot as plt\n",
    "from pathlib import Path\n",
    "import sys\n",
    "sys.path.append(\"..\") \n",
    "from utils import dump_collection, load_collection\n",
    "\n",
    "%matplotlib inline"
   ],
   "outputs": [
    {
     "output_type": "stream",
     "name": "stderr",
     "text": [
      "/Users/rr48396/opt/anaconda3/lib/python3.7/site-packages/nilearn/datasets/__init__.py:96: FutureWarning: Fetchers from the nilearn.datasets module will be updated in version 0.9 to return python strings instead of bytes and Pandas dataframes instead of Numpy arrays.\n",
      "  \"Numpy arrays.\", FutureWarning)\n"
     ]
    }
   ],
   "metadata": {}
  },
  {
   "cell_type": "code",
   "execution_count": 2,
   "source": [
    "api = Neuroscout()\n",
    "confounds = [\n",
    "    'a_comp_cor_00', 'a_comp_cor_01', 'a_comp_cor_02', 'a_comp_cor_03', 'a_comp_cor_04', 'a_comp_cor_05', \n",
    "    'trans_x', 'trans_y', 'trans_z', 'rot_x', 'rot_y', 'rot_z'\n",
    "]\n",
    "datasets = api.datasets.get() # Get all Neuroscout datasets"
   ],
   "outputs": [],
   "metadata": {}
  },
  {
   "cell_type": "code",
   "execution_count": 3,
   "source": [
    "filename = Path('models') / 'facenet.json'"
   ],
   "outputs": [],
   "metadata": {}
  },
  {
   "cell_type": "markdown",
   "source": [
    "### any_faces (only)"
   ],
   "metadata": {}
  },
  {
   "cell_type": "markdown",
   "source": [
    "We are using `create_models` which is a very simple function which uses Neuroscout's `pyNS` library to create "
   ],
   "metadata": {}
  },
  {
   "cell_type": "code",
   "execution_count": 5,
   "source": [
    "predictors = ['any_faces']\n",
    "name = '+'.join(predictors)\n",
    "\n",
    "# Uncomment to re-create\n",
    "# models = {}\n",
    "# models[name] = create_models(name=name, predictors=predictors, datasets=datasets, confounds=confounds)"
   ],
   "outputs": [],
   "metadata": {
    "scrolled": true
   }
  },
  {
   "cell_type": "code",
   "execution_count": null,
   "source": [
    "models = load_collection(filename)"
   ],
   "outputs": [],
   "metadata": {}
  },
  {
   "cell_type": "code",
   "execution_count": 6,
   "source": [
    "analysis = models[name][0]['analysis']\n",
    "analysis"
   ],
   "outputs": [
    {
     "output_type": "execute_result",
     "data": {
      "text/plain": [
       "<Analysis hash_id=M8vE1 name=any_faces dataset_id=27>"
      ]
     },
     "metadata": {},
     "execution_count": 6
    }
   ],
   "metadata": {}
  },
  {
   "cell_type": "markdown",
   "source": [
    "Generate a report for a random run (first one), to save time. Note that this order may change, and the order of runs is not guaranteed"
   ],
   "metadata": {}
  },
  {
   "cell_type": "code",
   "execution_count": null,
   "source": [
    "analysis.generate_report(run_id=analysis.runs[0]) \n",
    "analysis.plot_report(plot_type='design_matrix_plot')"
   ],
   "outputs": [],
   "metadata": {}
  },
  {
   "cell_type": "code",
   "execution_count": 9,
   "source": [
    "# Compile analyses if still in DRAFT\n",
    "# for analysis_dict in models[name]:\n",
    "#     analysis = analysis_dict['analysis']\n",
    "#     if analysis.get_status()['status'] in 'DRAFT':\n",
    "#         analysis.compile()"
   ],
   "outputs": [],
   "metadata": {}
  },
  {
   "cell_type": "markdown",
   "source": [
    "### any_faces + speech"
   ],
   "metadata": {}
  },
  {
   "cell_type": "code",
   "execution_count": 10,
   "source": [
    "predictors = ['any_faces', 'speech']\n",
    "name = '+'.join(predictors)\n",
    "\n",
    "# Uncomment to re-create\n",
    "# models[name] = create_models(name=name, predictors=predictors, datasets=datasets, confounds=confounds)"
   ],
   "outputs": [],
   "metadata": {}
  },
  {
   "cell_type": "code",
   "execution_count": 11,
   "source": [
    "analysis = models[name][0]['analysis']\n",
    "analysis"
   ],
   "outputs": [
    {
     "output_type": "execute_result",
     "data": {
      "text/plain": [
       "<Analysis hash_id=spcpc name=any_faces+speech dataset_id=10>"
      ]
     },
     "metadata": {},
     "execution_count": 11
    }
   ],
   "metadata": {}
  },
  {
   "cell_type": "code",
   "execution_count": null,
   "source": [
    "analysis.generate_report(run_id=analysis.runs[0]) # Only generate for a single example run, to save time\n",
    "analysis.plot_report(plot_type='design_matrix_plot')"
   ],
   "outputs": [],
   "metadata": {}
  },
  {
   "cell_type": "code",
   "execution_count": 14,
   "source": [
    "# Compile analyses if still in DRAFT\n",
    "# for analysis_dict in models[name]:\n",
    "#     analysis = analysis_dict['analysis']\n",
    "#     if analysis.get_status()['status'] in 'DRAFT':\n",
    "#         analysis.compile()"
   ],
   "outputs": [],
   "metadata": {}
  },
  {
   "cell_type": "markdown",
   "source": [
    "### any_faces + speech + face_time_cum"
   ],
   "metadata": {}
  },
  {
   "cell_type": "code",
   "execution_count": 15,
   "source": [
    "predictors = ['any_faces', 'speech', 'log_mean_face_time_cum']\n",
    "name = '+'.join(predictors)\n",
    "\n",
    "# Uncomment to re-create\n",
    "# models[name] = create_models(name=name, predictors=predictors, datasets=datasets, confounds=confounds)"
   ],
   "outputs": [],
   "metadata": {}
  },
  {
   "cell_type": "code",
   "execution_count": null,
   "source": [
    "analysis = models[name][0]['analysis']\n",
    "analysis.generate_report(run_id=analysis.runs[0]) # Only generate for a single example run, to save time\n",
    "analysis.plot_report(plot_type='design_matrix_plot')"
   ],
   "outputs": [],
   "metadata": {}
  },
  {
   "cell_type": "code",
   "execution_count": 18,
   "source": [
    "# Compile analyses\n",
    "# for analysis_dict in models[name]:\n",
    "#     analysis = analysis_dict['analysis']\n",
    "#     if analysis.get_status()['status'] in 'DRAFT':\n",
    "#         analysis.compile()"
   ],
   "outputs": [],
   "metadata": {}
  },
  {
   "cell_type": "code",
   "execution_count": 19,
   "source": [
    "# Save models out to file\n",
    "# dump_collection(models, filename)"
   ],
   "outputs": [],
   "metadata": {}
  }
 ],
 "metadata": {
  "kernelspec": {
   "name": "python3",
   "display_name": "Python 3.7.4 64-bit ('base': conda)"
  },
  "language_info": {
   "codemirror_mode": {
    "name": "ipython",
    "version": 3
   },
   "file_extension": ".py",
   "mimetype": "text/x-python",
   "name": "python",
   "nbconvert_exporter": "python",
   "pygments_lexer": "ipython3",
   "version": "3.7.4"
  },
  "interpreter": {
   "hash": "ba954e04f94d5e4970321c570fb05eff7c202d9f1ab5b8ba406812668fc94516"
  }
 },
 "nbformat": 4,
 "nbformat_minor": 4
}