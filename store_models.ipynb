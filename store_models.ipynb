{
 "cells": [
  {
   "cell_type": "code",
   "execution_count": 126,
   "metadata": {},
   "outputs": [],
   "source": [
    "from tools.base import (dump_collection, load_collection, \n",
    "                        flatten_collection, compute_metrics,\n",
    "                        _extract_regressors)\n",
    "from pyns import Neuroscout\n",
    "import os\n",
    "import pandas as pd"
   ]
  },
  {
   "cell_type": "code",
   "execution_count": 24,
   "metadata": {},
   "outputs": [],
   "source": [
    "api = Neuroscout()"
   ]
  },
  {
   "cell_type": "code",
   "execution_count": 127,
   "metadata": {},
   "outputs": [],
   "source": [
    "fs = [f for f in os.listdir('models') if f.endswith('json')]"
   ]
  },
  {
   "cell_type": "code",
   "execution_count": 128,
   "metadata": {},
   "outputs": [],
   "source": [
    "all_ids = []\n",
    "for f in fs:\n",
    "    fc = flatten_collection(load_collection('models/' + f))\n",
    "    ids = [a[1].hash_id for a in fc]\n",
    "    all_ids = all_ids + ids"
   ]
  },
  {
   "cell_type": "code",
   "execution_count": 129,
   "metadata": {},
   "outputs": [
    {
     "name": "stdout",
     "output_type": "stream",
     "text": [
      "M8vE1 wWyvQ 97p0Q AqQD3 9EdJr Ma4vb wjN6m A6oXQ MGvYD AVjo3 wkVlD Mv3rR MNQr0 M4jBy M55Dn 9eyvb wl80X A253P AbqGy 9BqXp MzQ5z w0glP MD1LO wK2LW Aop40 AYyWb wQDL1 wOO33 AxBd1 w0glv AYyvP wJ3Qe 9Bq6N MD1xD wJ3Dm M37YR MXjz3 wK2L2 AYy6O wl8Xv Aop4B AxBRW wJ3Lv M37P8 A6oD7 A13VD Mm3PX wl8xW MRaVb MpDBj wgyv0 MPqdL AxBnb wy28W M8vd1 9eKPb wgjG0 MmvkX Mp8Xj wyD7W M5Qpn AZy5W Mvb7R MR2Yb AbqEy MpDX5 wJ3PG MPqJ4 wgyGL wy27p A6oJv wl8Py AxBzB MRaYy wOVxB MGbVD MnPXX wWVKQ A1GoO MXmod AbnkR 9EWVr Arq4O A6m1k MDzYD wJJoe M34zR AYX8P AobEG wly2W AxkE1 9BbPN A13DD w0vov AVrDK Ar6D0 Mzql1 AdpDx wQoxW wK3W2 Aob3B M8LYl MXjY3 wjvzm M5Qxn wkK6D M4nly A2YzP Maq3b 9LqXK 97v3Q MNWX0 AdR1e Maqmb MNWl0 97v1Q wkKRD M4ndy Aqbq3 wjv7m 9LqeK A2YrP wOOv3 wOV6B AqbB3 MnPJX wWVQQ 9EWXr A1GPO MXm0d AbnYR MGbeD AVjJ3 A6m5k MDzgD wJJ1e M34dR AYXrP MPKJL wly7W Axk71 9BbON MnkeP M376v A6oJ1 wQDxq MD1vN AYyKz w0go1 wK2Wx Aop3K 9Bqnv 9Ed0K AZ4qk A6o8v wy2Op MpDP5 Mv382 MRa1y wgy6L MPq84 Mm3BB wK2Np AbnRy 9Lq1z 9EWBK wjv20 MGbQj AqbR8 MXmd3 MnPpP wWV8y Maqy1 MzQpZ w0vPv AVr0K Ar6N0 MzqP1 Adpkx wQo3W wK3V2 AobXB M8Lpl w0gBX AobKG MNQ0q Adp4e A1GkD M8LX1 AVr83 wK3Op Ar6VO MzqbZ AopLG wJJo4 wK3vp 9BbP5 MDzYd wQo1d AxkEK M34zo AYX8e w0vpX MnkYP 9L2XR AZ47m A2542 M4jlO 97p3z MNQBW M5545 9ey74 wkV62 wWyry wl8P7 w0gol AYyKg M376J AxBzz 9BqnV MD1vE wQDx8 wJ3Px 9EdZK wK2WX wOO65 AdRDV MzQlJ Aop36 M8vY4 AVjDO A13PN ArqDR MGvmj MXj0J wjNzL 9EdX1 wWyQZ AbqY4 MGveo AqQBj Ma432 MnkJ8 9BqG5 AqQxk wkV5V 9L2kY 97pXv wjNOy Ma40P wkVjV M4jV2 A25Pv MD1ad Mv3E7 wl8zX wy2a0 MRabg MpD1K Mm3dx wgyQR MPqOE A6oqQ wQDpd AxBPb wK2z5 AYyjb 9Bq37 M37W8 wJ3rm MD1B4 wQDXz w0gXN AxBvK MRa8R Aoprm MPqz3 A6oXp wgy3Y wl80p AxBnD wJ3Dp AYyPe Mnkoj 9L2dp 9Edx0 MGv0l wWybr AqQOb Ma4x4 wjNoP M370o 97pae AZ4L1 M4jEG A25nL wkVr4 MNQVN M55G6 9eyB6 wJ3R4 AVjGa AqQXb AbqJV Mnk8j MXjaK A13b6 wWyqr 9EdD0 MGvZl wOO1d ArqpO 9Bqdl M8v2Z wK2E6 AopGD w0g4B MD1V7 ArqO1 MzQaq AdR3R wQD7R M37Oo Ma4J4 9eyD6 wkVz4 M4jaG 97p7e wjNrP A25GL MNQyN M55j6 9L2Zp w0g8X AbqoD 97pJd MGvXQ AqQaq 9Ed1O MnkEO Ma4K3 wjNX3 9L2Gr wWy6R MD1ed A6oLX w0gWB M37qj AYyZJ wJ3ZW wl8dz 9BqZl MD1Z7 wQDZR AxBaa wQDBd wK2p6 MXjlV AdRzR M8v3Z MzQyq Aop1D AVj54 A132n wOOjY Arqj1 9BqN5 AxBab Aop1a 9BqZ7 MD1Z4 AYyZb wJ3Zm wQDZz w0gWN wK2p5 M37q8 wK26p wkVbJ MpDq3 M55lX 9eydz MNQaL M4j65 AZ4Ja Mv345 Mm3Wq A25N3 AYyde AZ4Z1 wl8dX wy2P0 MRaZg MpDOK Mv3G7 wgy0R MPqZE A6oLQ Mm38x AopZG wy25Z AYyxJ A6oxX wl8nz MPqLa MRakG AxBNa wJ3WW M375j wgyVz MzQYZ AVja4 AqQ1q AbqxD MnkdO MXjLV A13qn wWyjR 9EdPO MGvoQ wOOXY wJ324 MNQGZ wy2Wd 9eyVk AZ4E2 M55kP Mv3Xb Mm3K3 MpDzb AZ48K Ma4l3 9eyYz wkVoJ M4jL5 97p4d wjNK3 A25a3 MNQOL M557X 9L2Vr wl8N5 AVjnB AqQK5 AbqNv MnkDa MXjEG A13WQ wWyWp 9Ed3m MGvBk wOOda Mv3l0 AZ4ka wl8rz wy2qZ MRaWG MpDV3 Mv3W5 wgyDz MPqba A6okX Mm3zq wgyLJ wkVn1 MpDa5 M553j 9ey8d MNQ7V M4jJ7 AZ43k Mv322 Mm3EB A25l8 wy238 wK2ax MXjxG AdRdD M8vDg MzQZP AopqK AVjPB A136Q wOOka ArqLE MRaD4 Abqrv 97pBN MGvWk AqQj5 9Edbm MnkGa Ma4oz wjNbq 9L2jQ wWylp MpDvm A6oYv w0gZ1 M37xv AYyJz wJ3qG wl8Wy 9Bq1v MD1XN wQD2q AxB5B MPqYy wy2ep AYyGz A6ojv wl8Yy MPqP4 MRaNy AxB1B wJ30G M37Gv wgy1L Mm35Y AxBGa Aop8D 9BqBl MD1Q7 AYy7J wJ3dW wQDnR w0gGB wK286 M37jj A6onO 9Bqlv M8v7g wK2Kx AopQK w0gn1 MD1JN ArqoE MzQXP AdReD wQDVq AxBJK Ma42z 9eyZd wkV31 M4jq7 97pLN wjNJq A25E8 MNQzV M55aj 9L2oQ Ma4P1 M8Lry wQDrk wOVKP MXmXD A1GYY AVr1k Abn5Z MnP5g wWVO5 M4jXg M34X8 wl85e MDzp4 wQoez 9Bb77 AYXYb w0vVN wK375 Aobla 97pWO wgjXY Aop5J wlyGp AxkKD A6mPp MPK73 wJJ7p M34Xz AYXYr A251p Mzqrj AxBl6 AVrxa A1G16 M8LG3 AdpVB wOVPd MXmPK AbndV 9L2lz MNW0Z wK2B7 AZyB2 MvbQb 9eK5k M5Q0P Mmvq3 Mp8xb wyDod MNQJl wWVJr wJ3Yb AqbYb MaqV4 MGb4l 9EW70 wjvqP 9Lq4p 97vZe wkV2y MDzpo A6oKd wK37j Aoblm w0vVD wQoel A6mPQ wlyGX AxkKb M55Px M4nmG M37DP M5Qm6 9eKb6 MNW4N A2YmL AZy01 MvbK7 Mmvlx wjN40 MGbx3 w0g33 wjv5X 9LqDV Maq5J Aqb5O 97voB wkK53 M4nQz 9eya7 wyDz0 AYybj MPKvE A6m4Q wgjWR MR2lg wly6X Axkrb wJJ4m AqQm8 9BbWn MD1Gm w0v3D wK3Bj wQorl MDzGo Aob5m Ar65Q MzqJ5\n"
     ]
    }
   ],
   "source": [
    "print(' '.join(all_ids))"
   ]
  },
  {
   "cell_type": "code",
   "execution_count": 130,
   "metadata": {},
   "outputs": [
    {
     "data": {
      "text/plain": [
       "661"
      ]
     },
     "execution_count": 130,
     "metadata": {},
     "output_type": "execute_result"
    }
   ],
   "source": [
    "len(all_ids)"
   ]
  },
  {
   "cell_type": "code",
   "execution_count": 158,
   "metadata": {},
   "outputs": [],
   "source": [
    "l1 = list(pd.read_csv('../../ids.txt', header=None)[0])"
   ]
  },
  {
   "cell_type": "code",
   "execution_count": 147,
   "metadata": {},
   "outputs": [],
   "source": [
    "all_stored = os.listdir('../../../../../../media/hyperdrive/neuroscout-cli/output')"
   ]
  },
  {
   "cell_type": "code",
   "execution_count": 148,
   "metadata": {},
   "outputs": [
    {
     "data": {
      "text/plain": [
       "1176"
      ]
     },
     "execution_count": 148,
     "metadata": {},
     "output_type": "execute_result"
    }
   ],
   "source": [
    "len(all_stored)"
   ]
  },
  {
   "cell_type": "code",
   "execution_count": 159,
   "metadata": {},
   "outputs": [
    {
     "data": {
      "text/plain": [
       "793"
      ]
     },
     "execution_count": 159,
     "metadata": {},
     "output_type": "execute_result"
    }
   ],
   "source": [
    "len(l1)"
   ]
  },
  {
   "cell_type": "code",
   "execution_count": 160,
   "metadata": {},
   "outputs": [
    {
     "data": {
      "text/plain": [
       "383"
      ]
     },
     "execution_count": 160,
     "metadata": {},
     "output_type": "execute_result"
    }
   ],
   "source": [
    "len(all_stored) - len(l1)"
   ]
  },
  {
   "cell_type": "code",
   "execution_count": 161,
   "metadata": {},
   "outputs": [],
   "source": [
    "extra = list(set(all_stored) - set(l1))"
   ]
  },
  {
   "cell_type": "code",
   "execution_count": 162,
   "metadata": {},
   "outputs": [
    {
     "data": {
      "text/plain": [
       "458"
      ]
     },
     "execution_count": 162,
     "metadata": {},
     "output_type": "execute_result"
    }
   ],
   "source": [
    "len(extra)"
   ]
  },
  {
   "cell_type": "code",
   "execution_count": 168,
   "metadata": {},
   "outputs": [
    {
     "name": "stdout",
     "output_type": "stream",
     "text": [
      "audio_visual_confounds\n",
      "audio_visual_confounds_rms\n",
      "audioset_confounds\n",
      "audio_visual_confounds\n",
      "budapest_brightness\n",
      "subtlexusfrequency_Lg10WF+concreteness_Conc.M+aoa_AoA_Kup\n",
      "visual_confounds\n",
      "subtlexusfrequency_Lg10WF+concreteness_Conc.M+aoa_AoA_Kup+text_length+affect_V.Mean.Sum+affect_A.Mean.Sum+affect_D.Mean.Sum\n",
      "affect_A.Mean.Sum\n",
      "audio_visual_confounds\n",
      "face_detectionConfidence joyLikelihood angerLikelihood surpriseLikelihood sorrowLikelihood\n",
      "affect_A.Mean.Sum\n",
      "speech+BERTLM_pre_25_entropy\n",
      "affect_D.Mean.Sum\n",
      "massiveauditorylexicaldecision_FreqCOCAspok+speech\n",
      "affect_V.Mean.Sum\n",
      "audio_visual_confounds\n",
      "concreteness_Conc.M\n",
      "audio_visual_confounds\n",
      "audioset_confounds\n",
      "affect_A.Mean.Sum\n",
      "subtlexusfrequency_Lg10WF+concreteness_Conc.M\n",
      "subtlexusfrequency_Lg10WF+speech+massiveauditorylexicaldecision_PhonLev+text_length+massiveauditorylexicaldecision_NumSylls+massiveauditorylexicaldecision_NumPhones+massiveauditorylexicaldecision_Duration+concreteness_Conc.M\n",
      "shot_change\n",
      "massiveauditorylexicaldecision_FreqCOCAspok+speech+massiveauditorylexicaldecision_NumSylls+massiveauditorylexicaldecision_NumPhones+massiveauditorylexicaldecision_Duration+text_length\n",
      "facenet_any_faces-log_max_face_time_cum\n",
      "massiveauditorylexicaldecision_FreqCOCAspok+speech+massiveauditorylexicaldecision_NumSylls+massiveauditorylexicaldecision_NumPhones+massiveauditorylexicaldecision_Duration+text_length\n",
      "subtlexusfrequency_Lg10WF+concreteness_Conc.M+aoa_AoA_Kup+text_length+affect_V.Mean.Sum+affect_A.Mean.Sum\n",
      "rms+BERTLM_pre_25_entropy\n",
      "affect_A.Mean.Sum\n",
      "subtlexusfrequency_Lg10WF+concreteness_Conc.M+aoa_AoA_Kup\n",
      "audioset_confounds\n",
      "facenet_any_faces-first_time_face\n",
      "BERTLM_pre_25_entropy\n",
      "audioset_confounds\n",
      "BERTLM_pre_25_entropy\n",
      "subtlexusfrequency_Lg10WF+concreteness_Conc.M\n",
      "audioset_confounds\n",
      "subtlexusfrequency_Lg10WF+concreteness_Conc.M+aoa_AoA_Kup+text_length+affect_V.Mean.Sum\n",
      "audioset_confounds\n",
      "audio_visual_confounds\n",
      "audio_visual_confounds\n",
      "BERTLM_pre_25_surprisal\n",
      "facenet_any_faces-log_mean_face_time_cum\n",
      "visual_confounds\n",
      "audioset_confounds\n",
      "audio_visual_confounds\n",
      "subtlexusfrequency_Lg10WF+concreteness_Conc.M+aoa_AoA_Kup+text_length+affect_V.Mean.Sum+affect_A.Mean.Sum+affect_D.Mean.Sum\n",
      "affect_D.Mean.Sum\n",
      "subtlexusfrequency_Lg10WF+concreteness_Conc.M+aoa_AoA_Kup+text_length+affect_V.Mean.Sum+affect_A.Mean.Sum\n",
      "audio_visual_confounds\n",
      "subtlexusfrequency_Lg10WF+concreteness_Conc.M+aoa_AoA_Kup+text_length\n",
      "massiveauditorylexicaldecision_FreqCOCAspok+speech+massiveauditorylexicaldecision_NumSylls+massiveauditorylexicaldecision_NumPhones+massiveauditorylexicaldecision_Duration+text_length+massiveauditorylexicaldecision_PhonLev+concreteness_Conc.M\n",
      "massiveauditorylexicaldecision_FreqCOCAspok\n",
      "test stuff\n",
      "visual_confounds\n",
      "subtlexusfrequency_Lg10WF+concreteness_Conc.M+aoa_AoA_Kup+text_length+affect_V.Mean.Sum+affect_A.Mean.Sum\n",
      "ohbm_spokfreq+speech+nsylls,phones,dur,length\n",
      "audioset_confounds\n",
      "affect_V.Mean.Sum\n",
      "single_landscape\n",
      "audio_visual_confounds_rms\n",
      "affect_V.Mean.Sum\n",
      "subtlexusfrequency_Lg10WF\n",
      "test_sherlock_task\n",
      "rms_animal\n",
      "audioset_confounds\n",
      "subtlexusfrequency_Lg10WF\n",
      "subtlexusfrequency_Lg10WF+concreteness_Conc.M+aoa_AoA_Kup+text_length+affect_V.Mean.Sum+affect_A.Mean.Sum\n",
      "audioset_confounds\n",
      "audioset_confounds\n",
      "single_building\n",
      "facenet_any_faces-log_max_time_since\n",
      "BERTLM_pre_25_surprisal\n",
      "lancastersensorimotornorms_Gustatory.mean\n",
      "audioset_confounds\n",
      "subtlexusfrequency_Lg10WF+concreteness_Conc.M+aoa_AoA_Kup+text_length+affect_V.Mean.Sum+affect_A.Mean.Sum+affect_D.Mean.Sum\n",
      "audio_visual_confounds\n",
      "facenet_any_faces\n",
      "test_cat\n",
      "single_subtlexusfrequency_Lg10WF\n",
      "audio_visual_confounds\n",
      "shot_change\n",
      "any_faces_merlin_test\n",
      "audio_visual_confounds_rms\n",
      "audio_visual_confounds\n",
      "audio_visual_confounds\n",
      "audioset_confounds\n",
      "Test_RMS_Simple\n",
      "audio_visual_confounds\n",
      "sher/mer-basics\n",
      "subtlexusfrequency_Lg10WF\n",
      "massiveauditorylexicaldecision_FreqCOCAspok\n",
      "visual_confounds\n",
      "subtlexusfrequency_Lg10WF+concreteness_Conc.M+aoa_AoA_Kup+text_length+affect_V.Mean.Sum+affect_A.Mean.Sum\n",
      "T\n",
      "audioset_confounds\n",
      "subtlexusfrequency_Lg10WF+concreteness_Conc.M+aoa_AoA_Kup+text_length\n",
      "face_detectionConfidence joyLikelihood angerLikelihood surpriseLikelihood sorrowLikelihood\n",
      "rms_animal\n",
      "audioset_confounds\n",
      "subtlexusfrequency_Lg10WF+concreteness_Conc.M+aoa_AoA_Kup\n",
      "test_MerlinFaces\n",
      "TestNewModel\n",
      "life-n_count\n",
      "rounded\n",
      "visual_confounds\n",
      "audioset_confounds\n",
      "subtlexusfrequency_Lg10WF+concreteness_Conc.M\n",
      "affect_D.Mean.Sum\n",
      "concreteness_Conc.M\n",
      "massiveauditorylexicaldecision_FreqCOCAspok\n",
      "subtlexusfrequency_Lg10WF\n",
      "visual_confounds\n",
      "single_face_detectionConfidence\n",
      "audio_visual_confounds\n",
      "any_faces+first_time_face\n",
      "visual_confounds\n",
      "subtlexusfrequency_Lg10WF+concreteness_Conc.M+aoa_AoA_Kup+text_length\n",
      "massiveauditorylexicaldecision_FreqCOCAspok+speech+massiveauditorylexicaldecision_NumSylls+massiveauditorylexicaldecision_NumPhones+massiveauditorylexicaldecision_Duration+text_length+massiveauditorylexicaldecision_PhonLev+concreteness_Conc.M\n",
      "affect_D.Mean.Sum\n",
      "test_logL\n",
      "any_faces+log_max_face_time_cum\n",
      "affect_A.Mean.Sum\n",
      "ohbm_spokfreq\n",
      "sherlock 1 subject test\n",
      "massiveauditorylexicaldecision_FreqCOCAspok+speech\n",
      "visual_confounds\n",
      "speech+rms\n",
      "audioset_confounds\n",
      "subtlexusfrequency_Lg10WF+concreteness_Conc.M\n",
      "audio_visual_confounds\n",
      "audio_visual_confounds_rms\n",
      "subtlexusfrequency_Lg10WF+concreteness_Conc.M+aoa_AoA_Kup+text_length+affect_V.Mean.Sum+affect_A.Mean.Sum+affect_D.Mean.Sum\n",
      "ohbm_spokfreq+speech+nsylls,phones,dur,length\n",
      "audio_visual_confounds\n",
      "BERTLM_pre_25_entropy\n",
      "audio_visual_confounds\n",
      "massiveauditorylexicaldecision_FreqCOCAspok+speech+massiveauditorylexicaldecision_NumSylls+massiveauditorylexicaldecision_NumPhones+massiveauditorylexicaldecision_Duration+text_length\n",
      "audioset_confounds\n",
      "audio_visual_confounds_rms\n",
      "single_brightness\n",
      "affect_D.Mean.Sum\n",
      "rms_animal\n",
      "visual_confounds\n",
      "audio_visual_confounds\n",
      "lancastersensorimotornorms_Olfactory.mean\n",
      "audio_visual_confounds\n",
      "subtlexusfrequency_Lg10WF+speech\n",
      "massiveauditorylexicaldecision_FreqCOCAspok+speech+massiveauditorylexicaldecision_NumSylls+massiveauditorylexicaldecision_NumPhones+massiveauditorylexicaldecision_Duration+text_length+massiveauditorylexicaldecision_PhonLev+concreteness_Conc.M\n",
      "subtlexusfrequency_Lg10WF+concreteness_Conc.M\n",
      "audio_visual_confounds\n",
      "landscape\n",
      "subtlexusfrequency_Lg10WF\n",
      "audioset_confounds\n",
      "subtlexusfrequency_Lg10WF+concreteness_Conc.M+aoa_AoA_Kup+text_length+affect_V.Mean.Sum\n",
      "massiveauditorylexicaldecision_FreqCOCAspok+speech+massiveauditorylexicaldecision_NumSylls+massiveauditorylexicaldecision_NumPhones+massiveauditorylexicaldecision_Duration+text_length\n",
      "affect_D.Mean.Sum\n",
      "visual_confounds\n",
      "massiveauditorylexicaldecision_FreqCOCAspok\n",
      "audioset_confounds\n",
      "landscape\n",
      "speech+rms+visual\n",
      "single_subtlexusfrequency_Lg10WF\n",
      "single_subtlexusfrequency_Lg10WF\n",
      "concreteness_Conc.M\n",
      "audio_visual_confounds\n",
      "rounded\n",
      "subtlexusfrequency_Lg10WF+concreteness_Conc.M+aoa_AoA_Kup+text_length\n",
      "audioset_confounds\n",
      "single_technology\n",
      "affect_V.Mean.Sum\n",
      "rms_animal\n",
      "facenet_any_faces-first_time_face\n",
      "speech+rms+visual\n",
      "audioset_confounds\n",
      "audioset_confounds\n",
      "any_faces\n",
      "affect_V.Mean.Sum\n",
      "violence\n",
      "lancastersensorimotornorms_Head.mean\n",
      "visual_confounds\n",
      "subtlexusfrequency_Lg10WF+concreteness_Conc.M+aoa_AoA_Kup+text_length+affect_V.Mean.Sum+affect_A.Mean.Sum\n",
      "rms_animal\n",
      "lancastersensorimotornorms_Hand_arm.mean\n",
      "affect_D.Mean.Sum\n",
      "massiveauditorylexicaldecision_FreqCOCAspok+speech+massiveauditorylexicaldecision_NumSylls+massiveauditorylexicaldecision_NumPhones+massiveauditorylexicaldecision_Duration+text_length\n",
      "lancastersensorimotornorms_Mouth.mean\n",
      "single_speech\n",
      "test_new_cli\n",
      "visual_confounds\n",
      "subtlexusfrequency_Lg10WF+concreteness_Conc.M+aoa_AoA_Kup\n",
      "subtlexusfrequency_Lg10WF+concreteness_Conc.M+aoa_AoA_Kup\n",
      "subtlexusfrequency_Lg10WF+concreteness_Conc.M+aoa_AoA_Kup\n",
      "subtlexusfrequency_Lg10WF+concreteness_Conc.M\n",
      "audio_visual_confounds_rms\n",
      "single_subtlexusfrequency_Lg10WF\n",
      "subtlexusfrequency_Lg10WF\n",
      "audioset_confounds\n",
      "ohbm_spokfreq\n",
      "audio_visual_confounds\n",
      "audioset_confounds\n",
      "BERTLM_pre_25_entropy\n",
      "visual_confounds\n",
      "concreteness_Conc.M\n",
      "lancastersensorimotornorms_Foot_leg.mean\n",
      "any_faces+log_max_time_since\n",
      "audio_visual_confounds\n",
      "audioset_confounds\n",
      "massiveauditorylexicaldecision_FreqCOCAspok+speech\n",
      "visual_confounds\n",
      "subtlexusfrequency_Lg10WF+concreteness_Conc.M+aoa_AoA_Kup+text_length+affect_V.Mean.Sum+affect_A.Mean.Sum\n",
      "massiveauditorylexicaldecision_FreqCOCAspok+speech+massiveauditorylexicaldecision_NumSylls+massiveauditorylexicaldecision_NumPhones+massiveauditorylexicaldecision_Duration+text_length\n",
      "facenet_any_faces\n",
      "single_subtlexusfrequency_Lg10WF\n",
      "any_faces+log_mean_time_since\n",
      "audioset_confounds\n",
      "ohbm_spokfreq\n",
      "audio_visual_confounds\n",
      "rms_animal\n",
      "speech\n",
      "rms_life\n",
      "affect_V.Mean.Sum\n",
      "audioset_confounds\n",
      "single_subtlexusfrequency_Lg10WF\n",
      "audio_visual_confounds\n",
      "facenet_any_faces-log_max_time_since\n",
      "ohbm_spokfreq+speech+nsylls,phones,dur,length\n",
      "BERTLM_pre_25_entropy\n",
      "audioset_confounds\n",
      "subtlexusfrequency_Lg10WF+concreteness_Conc.M+aoa_AoA_Kup+text_length+affect_V.Mean.Sum\n",
      "brightness budapest\n",
      "audio_visual_confounds_rms\n",
      "ohbm_spokfreq\n",
      "single_rms\n",
      "audioset_confounds\n",
      "audio_visual_confounds_rms\n",
      "speech_life\n",
      "speech+BERTLM_pre_25_entropy\n",
      "subtlexusfrequency_Lg10WF+concreteness_Conc.M+aoa_AoA_Kup+text_length+affect_V.Mean.Sum+affect_A.Mean.Sum+affect_D.Mean.Sum\n",
      "visual_confounds\n",
      "concreteness_Conc.M\n",
      "affect_A.Mean.Sum\n",
      "audioset_confounds\n",
      "lancastersensorimotornorms_Visual.mean\n",
      "subtlexusfrequency_Lg10WF\n",
      "massiveauditorylexicaldecision_FreqCOCAspok+speech\n",
      "landscape\n",
      "facenet_any_faces-first_time_face\n",
      "rms_animal\n",
      "lancastersensorimotornorms_Interoceptive.mean\n",
      "BERTLM_pre_25_entropy\n",
      "speech+BERTLM_pre_25_entropy\n",
      "audio_visual_confounds\n",
      "massiveauditorylexicaldecision_FreqCOCAspok\n",
      "subtlexusfrequency_Lg10WF+concreteness_Conc.M+aoa_AoA_Kup+text_length+affect_V.Mean.Sum\n",
      "subtlexusfrequency_Lg10WF+concreteness_Conc.M+aoa_AoA_Kup+text_length+affect_V.Mean.Sum\n",
      "audio_visual_confounds\n",
      "audioset_confounds\n",
      "subtlexusfrequency_Lg10WF+concreteness_Conc.M+aoa_AoA_Kup+text_length+affect_V.Mean.Sum\n",
      "face_detectionConfidence joyLikelihood angerLikelihood surpriseLikelihood sorrowLikelihood\n",
      "BERTLM_pre_25_entropy\n",
      "affect_V.Mean.Sum\n",
      "subtlexusfrequency_Lg10WF+speech+massiveauditorylexicaldecision_PhonLev+text_length\n",
      "BERTLM_pre_25_entropy\n",
      "single_subtlexusfrequency_Lg10WF\n",
      "audio_visual_confounds\n",
      "face_identity_top20\n",
      "audio_visual_confounds\n",
      "subtlexusfrequency_Lg10WF+concreteness_Conc.M+aoa_AoA_Kup+text_length+affect_V.Mean.Sum\n",
      "audio_visual_confounds\n",
      "massiveauditorylexicaldecision_FreqCOCAspok+speech+massiveauditorylexicaldecision_NumSylls+massiveauditorylexicaldecision_NumPhones+massiveauditorylexicaldecision_Duration+text_length+massiveauditorylexicaldecision_PhonLev+concreteness_Conc.M\n",
      "face_detectionConfidence joyLikelihood angerLikelihood surpriseLikelihood sorrowLikelihood\n",
      "subtlexusfrequency_Lg10WF+concreteness_Conc.M+aoa_AoA_Kup+text_length\n",
      "simple_speech\n",
      "rms_life\n",
      "facenet_any_faces-log_mean_time_since\n",
      "concreteness_Conc.M\n",
      "lancastersensorimotornorms_Auditory.mean\n",
      "speech+rms+visual\n",
      "single_military\n",
      "affect_A.Mean.Sum\n",
      "rms_animal\n",
      "visual_confounds\n",
      "audio_visual_confounds\n",
      "single_shot_change\n",
      "ohbm_spokfreq+speech+nsylls,phones,dur,length\n",
      "subtlexusfrequency_Lg10WF+concreteness_Conc.M+aoa_AoA_Kup+text_length\n",
      "massiveauditorylexicaldecision_FreqCOCAspok\n",
      "affect_V.Mean.Sum\n",
      "audio_visual_confounds\n",
      "massiveauditorylexicaldecision_FreqCOCAspok\n",
      "visual_confounds\n",
      "one_confound\n",
      "lancastersensorimotornorms_Torso.mean\n",
      "audio_visual_confounds\n",
      "massiveauditorylexicaldecision_FreqCOCAspok+speech+massiveauditorylexicaldecision_NumSylls+massiveauditorylexicaldecision_NumPhones+massiveauditorylexicaldecision_Duration+text_length\n",
      "audio_visual_confounds\n",
      "audio_visual_confounds\n",
      "audio_visual_confounds\n",
      "subtlexusfrequency_Lg10WF+concreteness_Conc.M+aoa_AoA_Kup\n",
      "BERTLM_pre_25_surprisal\n",
      "audioset_confounds\n",
      "audioset_confounds\n",
      "subtlexusfrequency_Lg10WF+concreteness_Conc.M+aoa_AoA_Kup+text_length+affect_V.Mean.Sum+affect_A.Mean.Sum+affect_D.Mean.Sum\n",
      "test small\n",
      "affect_V.Mean.Sum\n",
      "BERTLM_pre_25_entropy\n",
      "concreteness_Conc.M\n",
      "rms_animal\n",
      "subtlexusfrequency_Lg10WF+concreteness_Conc.M+aoa_AoA_Kup+text_length\n",
      "audio_visual_confounds\n",
      "BERTLM_pre_25_entropy\n",
      "audioset_confounds\n",
      "single_technology\n",
      "init_raiders\n",
      "audio_visual_confounds\n",
      "ohbm_spokfreq\n",
      "audio_visual_confounds\n",
      "audio_visual_confounds_rms\n",
      "affect_A.Mean.Sum\n",
      "audio_visual_confounds\n",
      "any_faces\n",
      "massiveauditorylexicaldecision_FreqCOCAspok+speech+massiveauditorylexicaldecision_NumSylls+massiveauditorylexicaldecision_NumPhones+massiveauditorylexicaldecision_Duration+text_length\n",
      "face_detectionConfidence joyLikelihood angerLikelihood surpriseLikelihood sorrowLikelihood\n",
      "BERTLM_pre_25_entropy\n",
      "audio_visual_confounds\n",
      "confounds_only\n",
      "audio_visual_confounds\n",
      "lancastersensorimotornorms_Haptic.mean\n",
      "speech\n",
      "audio_visual_confounds\n",
      "rms_animal\n",
      "affect_D.Mean.Sum\n",
      "facenet_any_faces-log_mean_face_time_cum\n",
      "rms+BERTLM_pre_25_entropy\n",
      "any_faces+log_mean_face_time_cum\n",
      "subtlexusfrequency_Lg10WF+concreteness_Conc.M\n",
      "subtlexusfrequency_Lg10WF\n",
      "ohbm_spokfreq+speech+nsylls,phones,dur,length\n",
      "facenet_any_faces-log_max_face_time_cum\n",
      "subtlexusfrequency_Lg10WF+concreteness_Conc.M+aoa_AoA_Kup+text_length+affect_V.Mean.Sum+affect_A.Mean.Sum+affect_D.Mean.Sum\n",
      "facenet_any_faces-log_mean_time_since\n",
      "visual_confounds\n",
      "audio_visual_confounds\n",
      "massiveauditorylexicaldecision_FreqCOCAspok\n",
      "audio_visual_confounds\n"
     ]
    }
   ],
   "source": [
    "c = 0\n",
    "non_existing = []\n",
    "existing = []\n",
    "for e in extra:\n",
    "    try:\n",
    "        #print(api.analyses.get(e)['model']['Name'])\n",
    "        existing.append(e)\n",
    "    except:\n",
    "        c = c+1\n",
    "        non_existing.append(e)"
   ]
  },
  {
   "cell_type": "code",
   "execution_count": 166,
   "metadata": {},
   "outputs": [
    {
     "name": "stdout",
     "output_type": "stream",
     "text": [
      "['9Lq0Q', 'AobaK', 'M34nj', 'wgb69', 'MDzXd', 'AdplD', 'wQo2d', 'MnjlM', 'w0nZM', 'AxknB', 'MDz57', 'AVrXB', 'wjvDq', '9Bb4v', 'MDzdN', 'wJJbG', 'MzqBP', 'Adpex', 'wK3Qx', 'AYXJe', 'AYXWz', 'MXKyA', 'MnPoa', 'wkKj3', 'AobnD', 'wkKQ1', 'wW0EA', 'MGb3k', 'wlyOz', 'M8DxM', 'wKKKw', 'wOVra', 'A6mGX', '9EWxm', 'wK356', 'wJJqe', 'w0vOB', 'MNWGV', 'wJJDG', '97vbN', 'Axk3B', 'wK3Px', 'MzqX1', 'wK5pM', 'M34xR', 'wQojq', 'Axk6a', 'AobrK', 'wQo5R', 'AbbgA', 'AYX3z', 'MPK5a', 'MG2pA', 'wQo78', 'wlyW5', 'wlyEy', 'A6m6v', '9EjEw', 'M8L7l', 'MDzXD', 'AYX5J', '9BlZA', 'w0vq1', 'A1GdQ', 'MPxvM', 'wyn0A', 'Maqkz', 'Ar6o0', 'Ar68E', 'w0vnv', 'A6kBM', 'AVQ2w', 'Mvga9', 'wJJq4', '9Bb15', '9Bbrv', 'wQoVW', 'wOlOA', '9Bb5l', 'w0vz1', 'Aqbd5', 'AobqG', 'A1GWO', 'wJJ5W', 'Axk51', 'wK3ap', 'wWVbp', 'M34Pv', 'AVrnK', 'wlyWW', 'wK3K2', 'M8Lng', 'A6mYk', '9Bb1N', 'wQodq', 'Ar67E', 'MNZbM', 'w0vZX', 'MDzlN', 'AobQB', 'MzXpw', 'Abn4v', 'M34xo', 'M34Lv', 'M5oEw', 'MXmnG', 'AoQN9', 'Axk5K', '9LqkV', 'MzqEP', 'AYXJP']\n"
     ]
    }
   ],
   "source": [
    "print(non_existing)"
   ]
  },
  {
   "cell_type": "code",
   "execution_count": 169,
   "metadata": {},
   "outputs": [
    {
     "name": "stdout",
     "output_type": "stream",
     "text": [
      "['9BqVN', 'wWyE5', 'MGvN3', 'AZ4V1', 'M4jzO', 'Mpp5M', 'MpDyb', 'AolKM', 'MNWEq', 'MXjrD', 'wK3D6', 'A2Ykv', 'AVjx2', 'Mp8mL', '9BqPv', '9EWnk', 'M37Zz', 'AxkQW', 'wQDqz', '9Bqyn', 'M5Qgq', 'wK2y6', 'MD1km', 'AYyPg', 'Mv3V5', 'wlaqA', 'wK2vx', 'wK7xw', 'wOOPO', '97v2v', 'M8vJZ', 'Ma41J', 'w0RZM', 'wK2BK', 'AxBXJ', 'MzQJp', 'Mv52A', 'A25gR', '9EdyO', 'AYyzr', 'MD1nD', 'MD124', 'wOO4O', 'wKpWA', 'MRaBR', 'wK2Gl', 'w0g2N', 'Ar3EM', 'Mvbmq', 'MDpNM', 'wJ3ym', 'AVjR4', 'wy2VZ', 'AxBEB', 'AopL6', 'wQDGd', 'AqQ6q', 'MpZyw', 'wkV43', 'MaqbP', 'M3RPA', 'wOOYP', 'Aqb0k', 'MR2x2', 'AZ8E9', 'wJ3vp', 'MRajN', 'MmvD5', 'wQeqw', 'wQDb4', 'MPqXx', 'A6RdA', 'w0WP9', 'A13mG', '9Bb7n', 'wl8vp', 'M4j05', 'M4jez', 'wQp49', 'MGbPQ', '97ydA', 'AxBWD', 'w0gBl', 'MNW3V', 'Mnkng', '9eyn6', 'AYyVr', 'w0gjj', 'M37eY', 'MzQW1', 'w0g3Z', '9eK7E', 'M37zv', 'Mv36b', 'MGvrQ', 'MNQlV', 'wJ38p', 'AxKBw', 'Ar6e1', 'wl81p', 'M4j8z', 'MRzyM', 'AxkyV', 'Aqm7A', 'wOVm6', 'wjvaX', 'wJ3ne', '9L2xV', '9BqDl', 'wgjmK', 'wlyLv', 'wgyxz', 'Mp8K0', 'wy2Jd', 'MR6zM', 'MpDdK', 'AZ4vW', '9eyJk', 'wlGy9', 'MRaOG', 'wyDRE', 'MD1bV', 'Arqax', 'M4n52', 'wK4XA', 'wJ3jb', 'A25X3', 'AopPG', 'MD1bm', 'AqQnO', '9e5d9', 'AxBYb', 'A13ZY', '97pxd', 'A1mNA', 'Mm3Nx', '9ey1G', 'w0gbv', 'MzQ2P', 'wl8Jq', 'M8vWy', 'wlaeA', 'A6maB', 'AxBxD', 'A6o3k', 'wQDaW', 'A2YBR', 'AZ4j2', 'MNQkq', 'M8vzg', 'MD187', 'M55Z6', 'M370J', 'AZy7P', 'MD1qo', 'AbqXD', 'ArqEE', 'MPKEQ', 'M55qP', 'wJ3oG', 'wjNQX', 'MD1aE', 'AopyJ', '9Lmrw', 'M8yZ9', 'AYX0O', 'MRarg', '97vXB', 'MXjRV', 'AYyzX', '9BRZ9', 'wOVaZ', 'MPq33', 'MDZOw', 'M37eP', 'A6oep', 'Mv31E', '9L2KK', 'MnPBG', '9eKQb', 'wkKa4', 'Mm373', 'wjNg3', 'A6oVp', 'MnP6j', 'MR2EY', 'AopEK', 'Mp83K', 'wgnX9', '9eaV9', 'AZ4d2', 'wyxp9', 'AopOD', 'Arql1', 'AZnkA', 'AVjzk', 'Mzoq9', 'wyD0k', 'Mm318', 'ArBRA', 'MNQqZ', 'MD1qP', 'Mv3Qa', 'AxBV1', '9Bbxp', 'Ar638', 'wQDLW', '9Bqo7', 'AopW2', 'MNQPL', 'w0gaX', 'w0V1M', 'MD1O7', '9BZp9', 'wjO3A', 'A6oQk', '9Bqyq', 'w0mlA', 'AYy2b', 'MD1No', 'wOVG3', 'wgj7Y', 'wWV2W', '9EdG8', 'wkXJA', 'Mv3J7', 'Ao7NA', 'wO45A', 'MRa7z', 'A6o7R', '9B7vw', 'Mv3ev', 'Abq6Z', 'MvyvA', 'MPRvw', 'AxB8D', 'MXj1D', 'wyDkd', 'Aop5N', 'AdVD9', 'MNQ3Z', 'A6mB7', '9eKG3', 'wy2dq', 'Adp56', 'Mvbpe', 'MD1YN', 'MRayq', 'MDQO9', 'M372z', 'wJJ7m', 'AdR5q', 'M8vra', 'MRavR', '9L2ar', 'wJ7GA', 'AYYzA', 'wK2e2', 'MpDNq', 'M3Xv9', 'Mzq4q', 'wy2ov', 'MGbnR', 'wgyaK', 'MpDxl', 'wJgbA', 'M55eP', 'MDJVw', 'MPqV3', 'MnkzO', 'wl8op', 'AdR2D', 'w0vQB', 'A13Bn', 'M342v', 'MR2oR', 'wQZ1A', 'wJJKv', '9EW68', 'wl84e', 'AYDjw', '9LqPY', 'wgyBY', 'wl83W', 'M37p8', 'Axm6M', 'MXDJM', 'A6Pv9', '97pPd', 'AbnWx', 'wgyYY', 'AYy8z', 'M37lR', 'w0g53', 'M34m8', 'wJ36p', '9Bq8l', 'AopmB', 'wjN8X', 'wy2B0', 'wgPLA', 'M8vGa', '97pkB', 'M37ke', '9L2Jr', 'AZ4Dm', 'MXm2l', 'Mm3q0', 'M34Jp', 'AYyNr', 'MPo4A', 'wgyrR', 'AZ4Bv', 'wJ3zX', 'wOEPM', 'wJ3ex', 'A257R', 'AoJ6w', 'A6o0p', 'AdRx6', 'wkKmV', '9eyqk', 'wlyvz', 'AZ4za', 'AobgD', 'wgyXX', 'wkVN3', 'wQDWk', 'AYyqP', 'MR27R', '9BqzK', '97peB', '9Bqgn', 'MmvmV', 'A6RRA', 'A131G', 'M373p', 'MmgBw', 'wgjgy', 'Ab14w', 'Ao109', 'MzrPM', 'wKRK9', 'wK2jp', 'wK2r5', 'MPqGa', 'Arqm0']\n"
     ]
    }
   ],
   "source": [
    "print(existing)"
   ]
  },
  {
   "cell_type": "code",
   "execution_count": 170,
   "metadata": {},
   "outputs": [
    {
     "data": {
      "text/plain": [
       "347"
      ]
     },
     "execution_count": 170,
     "metadata": {},
     "output_type": "execute_result"
    }
   ],
   "source": [
    "len(existing)"
   ]
  },
  {
   "cell_type": "code",
   "execution_count": 173,
   "metadata": {},
   "outputs": [
    {
     "data": {
      "text/plain": [
       "718"
      ]
     },
     "execution_count": 173,
     "metadata": {},
     "output_type": "execute_result"
    }
   ],
   "source": [
    "len(set(l1) & set(all_stored))"
   ]
  },
  {
   "cell_type": "code",
   "execution_count": 175,
   "metadata": {},
   "outputs": [
    {
     "data": {
      "text/plain": [
       "793"
      ]
     },
     "execution_count": 175,
     "metadata": {},
     "output_type": "execute_result"
    }
   ],
   "source": [
    "len(l1)"
   ]
  }
 ],
 "metadata": {
  "kernelspec": {
   "display_name": "Python 3",
   "language": "python",
   "name": "python3"
  },
  "language_info": {
   "codemirror_mode": {
    "name": "ipython",
    "version": 3
   },
   "file_extension": ".py",
   "mimetype": "text/x-python",
   "name": "python",
   "nbconvert_exporter": "python",
   "pygments_lexer": "ipython3",
   "version": "3.7.3"
  }
 },
 "nbformat": 4,
 "nbformat_minor": 2
}
